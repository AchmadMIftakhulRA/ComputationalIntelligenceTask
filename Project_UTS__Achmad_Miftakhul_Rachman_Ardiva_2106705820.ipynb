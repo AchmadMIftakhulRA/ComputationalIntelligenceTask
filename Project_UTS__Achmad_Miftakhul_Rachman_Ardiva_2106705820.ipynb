{
  "cells": [
    {
      "cell_type": "markdown",
      "metadata": {
        "id": "view-in-github",
        "colab_type": "text"
      },
      "source": [
        "<a href=\"https://colab.research.google.com/github/AchmadMIftakhulRA/ComputationalIntelligenceTask/blob/main/Project_UTS__Achmad_Miftakhul_Rachman_Ardiva_2106705820.ipynb\" target=\"_parent\"><img src=\"https://colab.research.google.com/assets/colab-badge.svg\" alt=\"Open In Colab\"/></a>"
      ]
    },
    {
      "cell_type": "markdown",
      "source": [
        "**TUGAS UTS KOMPUTASI INTELEJENSIA**\n",
        "\n",
        "**NAMA** : Achmad Miftakhul Rachman Ardiva\n",
        "\n",
        "**NPM** : 2106705820"
      ],
      "metadata": {
        "id": "5xiYJZThoFvb"
      },
      "id": "5xiYJZThoFvb"
    },
    {
      "cell_type": "markdown",
      "id": "21f820f0",
      "metadata": {
        "id": "21f820f0"
      },
      "source": [
        "# Analisis Integrasi YOLO dan Transformer untuk Analisis Perilaku\n",
        "\n",
        "Notebook ini bertujuan untuk mengeksplorasi aspek teknis penggabungan model deteksi objek YOLO (You Only Look Once) dengan model Transformer dalam analisis perilaku objek pada urutan video. Kombinasi ini dirancang untuk menciptakan pipeline yang mampu mendeteksi objek secara real-time dengan YOLO dan memanfaatkan koordinat bounding box dari waktu ke waktu sebagai input untuk Transformer guna menganalisis pola pergerakan dan perilaku objek.\n",
        "\n",
        "Langkah-langkah yang akan kita bahas secara rinci meliputi:\n",
        "\n",
        "---\n",
        "\n",
        "## 1. Pengaturan YOLO untuk Deteksi Objek\n",
        "\n",
        "Pada langkah pertama ini, kita akan mengimplementasikan model YOLO di Google Colab, yang bertujuan untuk mendeteksi objek pada setiap frame video. YOLO adalah model deteksi objek yang dirancang untuk kecepatan tinggi, mampu melakukan deteksi objek secara real-time tanpa mengorbankan akurasi terlalu banyak. Di sini, kita akan:\n",
        "   - Menginstal YOLO di Google Colab dan menyiapkan model pre-trained untuk mendeteksi objek.\n",
        "   - Mengunggah video dari Google Drive atau dari komputer lokal untuk diproses.\n",
        "   - Mengkonfigurasi YOLO agar menghasilkan koordinat bounding box dan label objek yang terdeteksi untuk setiap frame.\n",
        "\n",
        "Output dari langkah ini adalah daftar koordinat bounding box yang mencakup informasi waktu dan posisi objek di setiap frame. Output inilah yang nantinya akan diolah oleh Transformer dalam analisis temporal.\n",
        "\n",
        "---\n",
        "\n",
        "## 2. Persiapan Output YOLO untuk Analisis Temporal dengan Transformer\n",
        "\n",
        "Setelah mendapatkan koordinat bounding box dari YOLO, langkah berikutnya adalah mempersiapkan data tersebut untuk bisa digunakan sebagai input Transformer. Transformer dirancang untuk memproses data berurutan, dan dalam konteks ini, urutan bounding box yang dihasilkan oleh YOLO perlu disusun dalam bentuk data time-series yang sesuai.\n",
        "\n",
        "Beberapa langkah penting dalam tahap ini meliputi:\n",
        "   - **Normalisasi Data**: Mengatur skala koordinat bounding box agar konsisten dan lebih mudah diolah oleh Transformer.\n",
        "   - **Penyusunan Data Berurutan**: Mengelompokkan bounding box berdasarkan ID objek untuk melacak pergerakan objek yang sama dari waktu ke waktu.\n",
        "   - **Penambahan Fitur Tambahan**: Menambahkan fitur tambahan seperti kecepatan dan arah pergerakan, yang dapat membantu Transformer dalam mengenali pola perilaku.\n",
        "\n",
        "Data hasil penyusunan ini kemudian akan diatur menjadi tensor berukuran `[sequence_length, feature_size]` yang siap untuk diproses oleh Transformer.\n",
        "\n",
        "---\n",
        "\n",
        "## 3. Optimasi Performa Real-Time\n",
        "\n",
        "Untuk menjaga performa real-time, penggabungan YOLO dan Transformer membutuhkan optimasi khusus. Beberapa teknik yang dapat digunakan meliputi:\n",
        "\n",
        "   - **Pengaturan Batch dan Ukuran Frame**: Mengurangi ukuran frame atau menggunakan batch kecil untuk mempercepat proses deteksi dan pemrosesan data.\n",
        "   - **Pruning Model Transformer**: Menyederhanakan arsitektur Transformer (misalnya dengan mengurangi jumlah layer atau head) untuk meningkatkan kecepatan tanpa terlalu banyak mengorbankan akurasi.\n",
        "   - **Pipeline Paralelisasi**: Menjalankan YOLO dan Transformer secara paralel, di mana YOLO mendeteksi objek sementara Transformer langsung memproses urutan bounding box yang diterima.\n",
        "   - **Threshold Kepercayaan**: Mengatur ambang batas deteksi di YOLO untuk mengabaikan deteksi yang kurang signifikan, sehingga hanya objek relevan yang diproses oleh Transformer.\n",
        "\n",
        "Kombinasi dari optimasi ini dapat membantu menjaga performa sistem agar tetap dapat digunakan secara real-time, yang penting dalam aplikasi seperti sistem pengawasan keamanan.\n",
        "\n",
        "---\n",
        "\n",
        "## 4. Menggunakan Transformer untuk Prediksi Perilaku Temporal\n",
        "\n",
        "Setelah data bounding box siap dan sistem telah dioptimasi, langkah selanjutnya adalah menggunakan Transformer untuk memprediksi perilaku objek dari urutan deteksi YOLO. Transformer memiliki kemampuan untuk memahami pola temporal secara lebih baik berkat mekanisme *self-attention* yang bisa menangkap hubungan antar-frame pada jangkauan waktu yang lebih panjang dibandingkan dengan model RNN atau LSTM.\n",
        "\n",
        "Beberapa analisis yang dapat dilakukan oleh Transformer di tahap ini meliputi:\n",
        "   - **Pelacakan Pergerakan**: Mengidentifikasi pola pergerakan objek dari frame ke frame untuk melacak lintasan atau arah.\n",
        "   - **Deteksi Aktivitas Anomali**: Mendeteksi perilaku tidak biasa atau aktivitas mencurigakan, misalnya pola pergerakan yang tiba-tiba atau keluar dari jalur normal.\n",
        "   - **Prediksi Kecepatan dan Arah**: Mengklasifikasi kecepatan dan arah objek, seperti kendaraan dalam analisis lalu lintas, dengan memperhatikan perubahan koordinat bounding box dalam urutan waktu.\n",
        "\n",
        "Dalam kasus seperti pengawasan keamanan, Transformer dapat memproses urutan bounding box yang dihasilkan YOLO untuk mendeteksi aktivitas anomali atau perilaku mencurigakan. Sementara itu, pada analisis lalu lintas, Transformer dapat mengidentifikasi pola pergerakan kendaraan, membantu dalam pengklasifikasian kecepatan, arah, dan bahkan memprediksi potensi kecelakaan.\n",
        "\n"
      ]
    },
    {
      "cell_type": "markdown",
      "id": "1b1a6fef",
      "metadata": {
        "id": "1b1a6fef"
      },
      "source": [
        "\n",
        "# HANDS ON YOLO\n",
        "\n",
        "**Mengimport libraries**\n",
        "\n",
        "- **Torch**: Digunakan untuk menjalankan model YOLO dan Transformer.\n",
        "- **OpenCV**: Memungkinkan pemrosesan video, seperti membaca dan menulis frame.\n",
        "- **Transformers**: Menyediakan infrastruktur untuk mengimplementasikan model Transformer dalam prediksi urutan.\n",
        "- Repositori **YOLOv5** mencakup konfigurasi model dan dependensi lain yang mempermudah proses setup.\n",
        "\n"
      ]
    },
    {
      "cell_type": "code",
      "execution_count": 1,
      "id": "657d1919",
      "metadata": {
        "colab": {
          "base_uri": "https://localhost:8080/"
        },
        "id": "657d1919",
        "outputId": "be59ed1d-aaba-4084-b984-f0c513071801"
      },
      "outputs": [
        {
          "output_type": "stream",
          "name": "stdout",
          "text": [
            "Requirement already satisfied: torch in /usr/local/lib/python3.10/dist-packages (2.5.0+cu121)\n",
            "Requirement already satisfied: torchvision in /usr/local/lib/python3.10/dist-packages (0.20.0+cu121)\n",
            "Requirement already satisfied: torchaudio in /usr/local/lib/python3.10/dist-packages (2.5.0+cu121)\n",
            "Requirement already satisfied: filelock in /usr/local/lib/python3.10/dist-packages (from torch) (3.16.1)\n",
            "Requirement already satisfied: typing-extensions>=4.8.0 in /usr/local/lib/python3.10/dist-packages (from torch) (4.12.2)\n",
            "Requirement already satisfied: networkx in /usr/local/lib/python3.10/dist-packages (from torch) (3.4.2)\n",
            "Requirement already satisfied: jinja2 in /usr/local/lib/python3.10/dist-packages (from torch) (3.1.4)\n",
            "Requirement already satisfied: fsspec in /usr/local/lib/python3.10/dist-packages (from torch) (2024.10.0)\n",
            "Requirement already satisfied: sympy==1.13.1 in /usr/local/lib/python3.10/dist-packages (from torch) (1.13.1)\n",
            "Requirement already satisfied: mpmath<1.4,>=1.1.0 in /usr/local/lib/python3.10/dist-packages (from sympy==1.13.1->torch) (1.3.0)\n",
            "Requirement already satisfied: numpy in /usr/local/lib/python3.10/dist-packages (from torchvision) (1.26.4)\n",
            "Requirement already satisfied: pillow!=8.3.*,>=5.3.0 in /usr/local/lib/python3.10/dist-packages (from torchvision) (10.4.0)\n",
            "Requirement already satisfied: MarkupSafe>=2.0 in /usr/local/lib/python3.10/dist-packages (from jinja2->torch) (3.0.2)\n",
            "Requirement already satisfied: opencv-python-headless in /usr/local/lib/python3.10/dist-packages (4.10.0.84)\n",
            "Requirement already satisfied: transformers in /usr/local/lib/python3.10/dist-packages (4.44.2)\n",
            "Requirement already satisfied: numpy>=1.21.2 in /usr/local/lib/python3.10/dist-packages (from opencv-python-headless) (1.26.4)\n",
            "Requirement already satisfied: filelock in /usr/local/lib/python3.10/dist-packages (from transformers) (3.16.1)\n",
            "Requirement already satisfied: huggingface-hub<1.0,>=0.23.2 in /usr/local/lib/python3.10/dist-packages (from transformers) (0.24.7)\n",
            "Requirement already satisfied: packaging>=20.0 in /usr/local/lib/python3.10/dist-packages (from transformers) (24.1)\n",
            "Requirement already satisfied: pyyaml>=5.1 in /usr/local/lib/python3.10/dist-packages (from transformers) (6.0.2)\n",
            "Requirement already satisfied: regex!=2019.12.17 in /usr/local/lib/python3.10/dist-packages (from transformers) (2024.9.11)\n",
            "Requirement already satisfied: requests in /usr/local/lib/python3.10/dist-packages (from transformers) (2.32.3)\n",
            "Requirement already satisfied: safetensors>=0.4.1 in /usr/local/lib/python3.10/dist-packages (from transformers) (0.4.5)\n",
            "Requirement already satisfied: tokenizers<0.20,>=0.19 in /usr/local/lib/python3.10/dist-packages (from transformers) (0.19.1)\n",
            "Requirement already satisfied: tqdm>=4.27 in /usr/local/lib/python3.10/dist-packages (from transformers) (4.66.6)\n",
            "Requirement already satisfied: fsspec>=2023.5.0 in /usr/local/lib/python3.10/dist-packages (from huggingface-hub<1.0,>=0.23.2->transformers) (2024.10.0)\n",
            "Requirement already satisfied: typing-extensions>=3.7.4.3 in /usr/local/lib/python3.10/dist-packages (from huggingface-hub<1.0,>=0.23.2->transformers) (4.12.2)\n",
            "Requirement already satisfied: charset-normalizer<4,>=2 in /usr/local/lib/python3.10/dist-packages (from requests->transformers) (3.4.0)\n",
            "Requirement already satisfied: idna<4,>=2.5 in /usr/local/lib/python3.10/dist-packages (from requests->transformers) (3.10)\n",
            "Requirement already satisfied: urllib3<3,>=1.21.1 in /usr/local/lib/python3.10/dist-packages (from requests->transformers) (2.2.3)\n",
            "Requirement already satisfied: certifi>=2017.4.17 in /usr/local/lib/python3.10/dist-packages (from requests->transformers) (2024.8.30)\n",
            "Cloning into 'yolov5'...\n",
            "remote: Enumerating objects: 17022, done.\u001b[K\n",
            "remote: Total 17022 (delta 0), reused 0 (delta 0), pack-reused 17022 (from 1)\u001b[K\n",
            "Receiving objects: 100% (17022/17022), 15.62 MiB | 22.78 MiB/s, done.\n",
            "Resolving deltas: 100% (11694/11694), done.\n",
            "\u001b[2K   \u001b[90m━━━━━━━━━━━━━━━━━━━━━━━━━━━━━━━━━━━━━━━━\u001b[0m \u001b[32m879.0/879.0 kB\u001b[0m \u001b[31m15.0 MB/s\u001b[0m eta \u001b[36m0:00:00\u001b[0m\n",
            "\u001b[?25h"
          ]
        }
      ],
      "source": [
        "\n",
        "# Install necessary libraries for YOLO, OpenCV, and Transformers\n",
        "!pip install torch torchvision torchaudio\n",
        "!pip install opencv-python-headless transformers\n",
        "\n",
        "# Clone YOLOv5 repository and install its requirements\n",
        "!git clone https://github.com/ultralytics/yolov5.git\n",
        "!pip install -qr yolov5/requirements.txt\n"
      ]
    },
    {
      "cell_type": "code",
      "execution_count": 3,
      "id": "0e3a720a",
      "metadata": {
        "colab": {
          "base_uri": "https://localhost:8080/"
        },
        "id": "0e3a720a",
        "outputId": "328a1285-23ca-4779-90c5-b64e546d9ddb"
      },
      "outputs": [
        {
          "output_type": "stream",
          "name": "stderr",
          "text": [
            "Using cache found in /root/.cache/torch/hub/ultralytics_yolov5_master\n",
            "YOLOv5 🚀 2024-11-2 Python-3.10.12 torch-2.5.0+cu121 CPU\n",
            "\n",
            "Fusing layers... \n",
            "YOLOv5s summary: 213 layers, 7225885 parameters, 0 gradients, 16.4 GFLOPs\n",
            "Adding AutoShape... \n"
          ]
        },
        {
          "output_type": "stream",
          "name": "stdout",
          "text": [
            "Drive already mounted at /content/drive; to attempt to forcibly remount, call drive.mount(\"/content/drive\", force_remount=True).\n"
          ]
        }
      ],
      "source": [
        "\n",
        "# Import necessary libraries and load YOLOv5 model\n",
        "import torch\n",
        "import cv2\n",
        "import numpy as np\n",
        "from google.colab import drive\n",
        "from google.colab import files\n",
        "\n",
        "# Load YOLOv5 model ('yolov5s' is a lightweight, faster version)\n",
        "model = torch.hub.load('ultralytics/yolov5', 'yolov5s', pretrained=True)\n",
        "\n",
        "# Mount Google Drive to access video files\n",
        "drive.mount('/content/drive')\n",
        "video_path = '/content/drive/MyDrive/tes video collab/bottle-detection.gif'  # Example path\n"
      ]
    },
    {
      "cell_type": "code",
      "source": [
        "from google.colab import files\n",
        "uploaded = files.upload()  # Upload a video file manually if needed\n",
        "\n",
        "# Update video_path if you upload manually\n",
        "video_path = next(iter(uploaded))  # Automatically get the uploaded file path\n"
      ],
      "metadata": {
        "colab": {
          "base_uri": "https://localhost:8080/",
          "height": 71
        },
        "id": "vrC1OVGrj0tQ",
        "outputId": "509e6616-fa27-403b-908c-eeb785b0545b"
      },
      "id": "vrC1OVGrj0tQ",
      "execution_count": 4,
      "outputs": [
        {
          "output_type": "display_data",
          "data": {
            "text/plain": [
              "<IPython.core.display.HTML object>"
            ],
            "text/html": [
              "\n",
              "     <input type=\"file\" id=\"files-e7395f5c-cf36-4332-a9e4-c17677b7c96e\" name=\"files[]\" multiple disabled\n",
              "        style=\"border:none\" />\n",
              "     <output id=\"result-e7395f5c-cf36-4332-a9e4-c17677b7c96e\">\n",
              "      Upload widget is only available when the cell has been executed in the\n",
              "      current browser session. Please rerun this cell to enable.\n",
              "      </output>\n",
              "      <script>// Copyright 2017 Google LLC\n",
              "//\n",
              "// Licensed under the Apache License, Version 2.0 (the \"License\");\n",
              "// you may not use this file except in compliance with the License.\n",
              "// You may obtain a copy of the License at\n",
              "//\n",
              "//      http://www.apache.org/licenses/LICENSE-2.0\n",
              "//\n",
              "// Unless required by applicable law or agreed to in writing, software\n",
              "// distributed under the License is distributed on an \"AS IS\" BASIS,\n",
              "// WITHOUT WARRANTIES OR CONDITIONS OF ANY KIND, either express or implied.\n",
              "// See the License for the specific language governing permissions and\n",
              "// limitations under the License.\n",
              "\n",
              "/**\n",
              " * @fileoverview Helpers for google.colab Python module.\n",
              " */\n",
              "(function(scope) {\n",
              "function span(text, styleAttributes = {}) {\n",
              "  const element = document.createElement('span');\n",
              "  element.textContent = text;\n",
              "  for (const key of Object.keys(styleAttributes)) {\n",
              "    element.style[key] = styleAttributes[key];\n",
              "  }\n",
              "  return element;\n",
              "}\n",
              "\n",
              "// Max number of bytes which will be uploaded at a time.\n",
              "const MAX_PAYLOAD_SIZE = 100 * 1024;\n",
              "\n",
              "function _uploadFiles(inputId, outputId) {\n",
              "  const steps = uploadFilesStep(inputId, outputId);\n",
              "  const outputElement = document.getElementById(outputId);\n",
              "  // Cache steps on the outputElement to make it available for the next call\n",
              "  // to uploadFilesContinue from Python.\n",
              "  outputElement.steps = steps;\n",
              "\n",
              "  return _uploadFilesContinue(outputId);\n",
              "}\n",
              "\n",
              "// This is roughly an async generator (not supported in the browser yet),\n",
              "// where there are multiple asynchronous steps and the Python side is going\n",
              "// to poll for completion of each step.\n",
              "// This uses a Promise to block the python side on completion of each step,\n",
              "// then passes the result of the previous step as the input to the next step.\n",
              "function _uploadFilesContinue(outputId) {\n",
              "  const outputElement = document.getElementById(outputId);\n",
              "  const steps = outputElement.steps;\n",
              "\n",
              "  const next = steps.next(outputElement.lastPromiseValue);\n",
              "  return Promise.resolve(next.value.promise).then((value) => {\n",
              "    // Cache the last promise value to make it available to the next\n",
              "    // step of the generator.\n",
              "    outputElement.lastPromiseValue = value;\n",
              "    return next.value.response;\n",
              "  });\n",
              "}\n",
              "\n",
              "/**\n",
              " * Generator function which is called between each async step of the upload\n",
              " * process.\n",
              " * @param {string} inputId Element ID of the input file picker element.\n",
              " * @param {string} outputId Element ID of the output display.\n",
              " * @return {!Iterable<!Object>} Iterable of next steps.\n",
              " */\n",
              "function* uploadFilesStep(inputId, outputId) {\n",
              "  const inputElement = document.getElementById(inputId);\n",
              "  inputElement.disabled = false;\n",
              "\n",
              "  const outputElement = document.getElementById(outputId);\n",
              "  outputElement.innerHTML = '';\n",
              "\n",
              "  const pickedPromise = new Promise((resolve) => {\n",
              "    inputElement.addEventListener('change', (e) => {\n",
              "      resolve(e.target.files);\n",
              "    });\n",
              "  });\n",
              "\n",
              "  const cancel = document.createElement('button');\n",
              "  inputElement.parentElement.appendChild(cancel);\n",
              "  cancel.textContent = 'Cancel upload';\n",
              "  const cancelPromise = new Promise((resolve) => {\n",
              "    cancel.onclick = () => {\n",
              "      resolve(null);\n",
              "    };\n",
              "  });\n",
              "\n",
              "  // Wait for the user to pick the files.\n",
              "  const files = yield {\n",
              "    promise: Promise.race([pickedPromise, cancelPromise]),\n",
              "    response: {\n",
              "      action: 'starting',\n",
              "    }\n",
              "  };\n",
              "\n",
              "  cancel.remove();\n",
              "\n",
              "  // Disable the input element since further picks are not allowed.\n",
              "  inputElement.disabled = true;\n",
              "\n",
              "  if (!files) {\n",
              "    return {\n",
              "      response: {\n",
              "        action: 'complete',\n",
              "      }\n",
              "    };\n",
              "  }\n",
              "\n",
              "  for (const file of files) {\n",
              "    const li = document.createElement('li');\n",
              "    li.append(span(file.name, {fontWeight: 'bold'}));\n",
              "    li.append(span(\n",
              "        `(${file.type || 'n/a'}) - ${file.size} bytes, ` +\n",
              "        `last modified: ${\n",
              "            file.lastModifiedDate ? file.lastModifiedDate.toLocaleDateString() :\n",
              "                                    'n/a'} - `));\n",
              "    const percent = span('0% done');\n",
              "    li.appendChild(percent);\n",
              "\n",
              "    outputElement.appendChild(li);\n",
              "\n",
              "    const fileDataPromise = new Promise((resolve) => {\n",
              "      const reader = new FileReader();\n",
              "      reader.onload = (e) => {\n",
              "        resolve(e.target.result);\n",
              "      };\n",
              "      reader.readAsArrayBuffer(file);\n",
              "    });\n",
              "    // Wait for the data to be ready.\n",
              "    let fileData = yield {\n",
              "      promise: fileDataPromise,\n",
              "      response: {\n",
              "        action: 'continue',\n",
              "      }\n",
              "    };\n",
              "\n",
              "    // Use a chunked sending to avoid message size limits. See b/62115660.\n",
              "    let position = 0;\n",
              "    do {\n",
              "      const length = Math.min(fileData.byteLength - position, MAX_PAYLOAD_SIZE);\n",
              "      const chunk = new Uint8Array(fileData, position, length);\n",
              "      position += length;\n",
              "\n",
              "      const base64 = btoa(String.fromCharCode.apply(null, chunk));\n",
              "      yield {\n",
              "        response: {\n",
              "          action: 'append',\n",
              "          file: file.name,\n",
              "          data: base64,\n",
              "        },\n",
              "      };\n",
              "\n",
              "      let percentDone = fileData.byteLength === 0 ?\n",
              "          100 :\n",
              "          Math.round((position / fileData.byteLength) * 100);\n",
              "      percent.textContent = `${percentDone}% done`;\n",
              "\n",
              "    } while (position < fileData.byteLength);\n",
              "  }\n",
              "\n",
              "  // All done.\n",
              "  yield {\n",
              "    response: {\n",
              "      action: 'complete',\n",
              "    }\n",
              "  };\n",
              "}\n",
              "\n",
              "scope.google = scope.google || {};\n",
              "scope.google.colab = scope.google.colab || {};\n",
              "scope.google.colab._files = {\n",
              "  _uploadFiles,\n",
              "  _uploadFilesContinue,\n",
              "};\n",
              "})(self);\n",
              "</script> "
            ]
          },
          "metadata": {}
        },
        {
          "output_type": "stream",
          "name": "stdout",
          "text": [
            "Saving bottle-detection.gif to bottle-detection.gif\n"
          ]
        }
      ]
    },
    {
      "cell_type": "code",
      "execution_count": 5,
      "id": "4e1ac9ef",
      "metadata": {
        "colab": {
          "base_uri": "https://localhost:8080/",
          "height": 287
        },
        "id": "4e1ac9ef",
        "outputId": "b06a69fa-700f-4e0c-be1f-1d2ba725820e"
      },
      "outputs": [
        {
          "output_type": "display_data",
          "data": {
            "text/plain": [
              "<PIL.Image.Image image mode=RGB size=480x270>"
            ],
            "image/png": "[encoded data removed]",
            "image/jpeg": "[encoded data removed]"
          },
          "metadata": {}
        }
      ],
      "source": [
        "import cv2\n",
        "from IPython.display import display, clear_output\n",
        "import PIL.Image\n",
        "\n",
        "# Load video using OpenCV\n",
        "cap = cv2.VideoCapture(video_path)\n",
        "output_path = '/content/drive/MyDrive/output_video.mp4'  # Save path for output\n",
        "fps = cap.get(cv2.CAP_PROP_FPS)\n",
        "width = int(cap.get(cv2.CAP_PROP_FRAME_WIDTH))\n",
        "height = int(cap.get(cv2.CAP_PROP_FRAME_HEIGHT))\n",
        "\n",
        "# Define codec and create VideoWriter for saving output video\n",
        "fourcc = cv2.VideoWriter_fourcc(*'mp4v')\n",
        "out = cv2.VideoWriter(output_path, fourcc, fps, (width, height))\n",
        "\n",
        "# Loop through each frame in the video\n",
        "while cap.isOpened():\n",
        "    ret, frame = cap.read()  # Read a frame\n",
        "    if not ret:\n",
        "        break\n",
        "\n",
        "    # Perform object detection\n",
        "    results = model(frame)\n",
        "\n",
        "    # Loop over each detected object\n",
        "    for detection in results.xyxy[0]:\n",
        "        x1, y1, x2, y2, conf, cls = map(int, detection[:6])\n",
        "        label = model.names[cls]\n",
        "\n",
        "        # Draw bounding boxes and labels on frame\n",
        "        cv2.rectangle(frame, (x1, y1), (x2, y2), (0, 255, 0), 2)\n",
        "        cv2.putText(frame, label, (x1, y1 - 10), cv2.FONT_HERSHEY_SIMPLEX, 0.5, (255, 0, 0), 2)\n",
        "\n",
        "    # Write the processed frame to output video\n",
        "    out.write(frame)\n",
        "\n",
        "    # Convert frame to RGB format for displaying in Colab\n",
        "    rgb_frame = cv2.cvtColor(frame, cv2.COLOR_BGR2RGB)\n",
        "    pil_im = PIL.Image.fromarray(rgb_frame)\n",
        "\n",
        "    # Display the frame in the output cell\n",
        "    clear_output(wait=True)  # Clear previous output to update display\n",
        "    display(pil_im)  # Show the current frame\n",
        "\n",
        "# Release video capture and writer\n",
        "cap.release()\n",
        "out.release()\n"
      ]
    },
    {
      "cell_type": "markdown",
      "id": "f069449a",
      "metadata": {
        "id": "f069449a"
      },
      "source": [
        "\n",
        "# Mempersiapkan Output YOLOv5 untuk Input Transformer\n",
        "\n",
        "Untuk melakukan analisis perilaku, kita perlu mengubah deteksi dari YOLO ke dalam format yang sesuai untuk model Transformer. Proses ini penting agar data yang dihasilkan dari deteksi objek dapat dipahami dan dianalisis lebih lanjut oleh model Transformer. Berikut adalah langkah-langkah yang perlu dilakukan:\n",
        "\n",
        "1. **Mengekstrak dan Menormalkan Koordinat**:\n",
        "   - **Mengekstrak Koordinat**: Setelah objek terdeteksi menggunakan YOLOv5, kita mendapatkan koordinat dari bounding box untuk setiap objek di setiap frame video. Koordinat ini biasanya terdiri dari posisi sudut kiri atas (x1, y1) dan sudut kanan bawah (x2, y2).\n",
        "   - **Normalisasi Koordinat**: Koordinat bounding box perlu dinormalisasi agar berada dalam rentang 0 hingga 1. Ini dilakukan dengan membagi nilai koordinat dengan lebar dan tinggi frame. Normalisasi penting untuk membuat data konsisten, sehingga model Transformer dapat lebih mudah memproses dan memahami pola perilaku objek yang terdeteksi.\n",
        "\n",
        "2. **Menyusun Data berdasarkan ID Objek dan Frame**:\n",
        "   - **Identifikasi Objek**: Setiap objek yang terdeteksi perlu diberikan ID unik untuk melacak keberadaannya dari frame ke frame. Ini memungkinkan kita untuk mengikuti objek yang sama sepanjang video.\n",
        "   - **Menyusun Data**: Setelah memberikan ID pada setiap objek, data perlu disusun dalam format yang mengelompokkan semua deteksi berdasarkan ID objek. Ini berarti setiap ID objek akan memiliki urutan data yang menunjukkan posisi dan ukuran objek pada setiap frame. Dengan cara ini, kita dapat menjaga konsistensi dan integritas data, yang penting untuk analisis temporal.\n",
        "   - **Menjaga Konsistensi**: Penting untuk memastikan bahwa ID objek yang sama tetap konsisten di seluruh frame video, sehingga ketika model Transformer menerima data, ia dapat memahami bahwa data yang diterima berasal dari objek yang sama.\n",
        "\n",
        "Dengan langkah-langkah di atas, kita telah mempersiapkan output dari YOLOv5 menjadi format yang siap digunakan sebagai input untuk model Transformer, memungkinkan analisis perilaku objek dalam video secara lebih efektif dan efisien.\n"
      ]
    },
    {
      "cell_type": "code",
      "execution_count": 6,
      "id": "057db460",
      "metadata": {
        "id": "057db460"
      },
      "outputs": [],
      "source": [
        "\n",
        "# Normalize bounding box coordinates\n",
        "def normalize_coordinates(detections, frame_width, frame_height):\n",
        "    normalized_detections = []\n",
        "    for det in detections:\n",
        "        x1, y1, x2, y2, conf, cls = det\n",
        "        norm_x1, norm_y1 = x1 / frame_width, y1 / frame_height\n",
        "        norm_x2, norm_y2 = x2 / frame_width, y2 / frame_height\n",
        "        normalized_detections.append([norm_x1, norm_y1, norm_x2, norm_y2, conf, cls])\n",
        "    return normalized_detections\n",
        "\n",
        "# Example usage:\n",
        "detections = results.xyxy[0].cpu().numpy()  # YOLO output to numpy array\n",
        "frame_width, frame_height = width, height\n",
        "normalized_detections = normalize_coordinates(detections, frame_width, frame_height)\n"
      ]
    },
    {
      "cell_type": "code",
      "source": [
        "from google.colab import files\n",
        "files.download(output_path)"
      ],
      "metadata": {
        "colab": {
          "base_uri": "https://localhost:8080/",
          "height": 17
        },
        "id": "tfz1kE7zjtS5",
        "outputId": "349acd32-f595-46f6-fa06-f9adddb9c455"
      },
      "id": "tfz1kE7zjtS5",
      "execution_count": 7,
      "outputs": [
        {
          "output_type": "display_data",
          "data": {
            "text/plain": [
              "<IPython.core.display.Javascript object>"
            ],
            "application/javascript": [
              "\n",
              "    async function download(id, filename, size) {\n",
              "      if (!google.colab.kernel.accessAllowed) {\n",
              "        return;\n",
              "      }\n",
              "      const div = document.createElement('div');\n",
              "      const label = document.createElement('label');\n",
              "      label.textContent = `Downloading \"${filename}\": `;\n",
              "      div.appendChild(label);\n",
              "      const progress = document.createElement('progress');\n",
              "      progress.max = size;\n",
              "      div.appendChild(progress);\n",
              "      document.body.appendChild(div);\n",
              "\n",
              "      const buffers = [];\n",
              "      let downloaded = 0;\n",
              "\n",
              "      const channel = await google.colab.kernel.comms.open(id);\n",
              "      // Send a message to notify the kernel that we're ready.\n",
              "      channel.send({})\n",
              "\n",
              "      for await (const message of channel.messages) {\n",
              "        // Send a message to notify the kernel that we're ready.\n",
              "        channel.send({})\n",
              "        if (message.buffers) {\n",
              "          for (const buffer of message.buffers) {\n",
              "            buffers.push(buffer);\n",
              "            downloaded += buffer.byteLength;\n",
              "            progress.value = downloaded;\n",
              "          }\n",
              "        }\n",
              "      }\n",
              "      const blob = new Blob(buffers, {type: 'application/binary'});\n",
              "      const a = document.createElement('a');\n",
              "      a.href = window.URL.createObjectURL(blob);\n",
              "      a.download = filename;\n",
              "      div.appendChild(a);\n",
              "      a.click();\n",
              "      div.remove();\n",
              "    }\n",
              "  "
            ]
          },
          "metadata": {}
        },
        {
          "output_type": "display_data",
          "data": {
            "text/plain": [
              "<IPython.core.display.Javascript object>"
            ],
            "application/javascript": [
              "download(\"download_2dbe3a3b-6d91-4b84-b133-d02dde53896b\", \"output_video.mp4\", 278979)"
            ]
          },
          "metadata": {}
        }
      ]
    }
  ],
  "metadata": {
    "colab": {
      "provenance": [],
      "include_colab_link": true
    },
    "language_info": {
      "name": "python"
    },
    "kernelspec": {
      "name": "python3",
      "display_name": "Python 3"
    }
  },
  "nbformat": 4,
  "nbformat_minor": 5
}